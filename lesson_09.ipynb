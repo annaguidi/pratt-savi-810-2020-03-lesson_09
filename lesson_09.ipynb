{
 "cells": [
  {
   "cell_type": "markdown",
   "metadata": {},
   "source": [
    "# Lesson 09\n",
    "\n",
    "# Additional Mapping Functionality with Matplotlib, Networks with OSMNX (cont'd), GeoPandas Read FGDB, KML\n",
    "\n",
    "\n",
    "\n",
    "![http://www.pratt.edu/tiny_mce/plugins/imagemanager/files/Light_brown_blue22.jpg](http://www.pratt.edu/tiny_mce/plugins/imagemanager/files/Light_brown_blue22.jpg)\n",
    "\n",
    "# Class Links\n",
    "\n",
    "* [Syllabus](https://docs.google.com/document/d/1KHxT-NkaoXXdSNkK8JlzL2FFgmNoxPQ25fwgtXPnbrY)\n",
    "\n",
    "* [Class Google Spreadsheet](https://docs.google.com/spreadsheets/d/1t481r7HjQBbjNtFOABSOlcckzQhdrh12TCzpSYKurI0/edit?usp=sharing)\n",
    "\n",
    "* [Google Meetup Video Hangout](https://meet.google.com/aym-kxae-bzr)\n",
    "\n",
    "  * For United States Dial +1 \n",
    "    * (669) 220-6376\n",
    "  * Enter this PIN when prompted: \n",
    "    * 891 126 706 #\n",
    "  \n",
    "* [GitHub Organization](https://github.com/pratt-savi-810)\n",
    "\n",
    "* [Slack Organization](https://app.slack.com/client/T01068MA75X/C010J3Q2QET)\n",
    "\n",
    "* [Resources](https://github.com/pratt-savi-810/resources)"
   ]
  },
  {
   "cell_type": "markdown",
   "metadata": {
    "toc": true
   },
   "source": [
    "<h1>Table of Contents<span class=\"tocSkip\"></span></h1>\n",
    "<div class=\"toc\"><ul class=\"toc-item\"><li><span><a href=\"#Lesson-09\" data-toc-modified-id=\"Lesson-09-1\">Lesson 09</a></span></li><li><span><a href=\"#Additional-Mapping-Functionality-with-Matplotlib,-Networks-with-OSMNX-(cont'd),-GeoPandas-Read-FGDB,-KML\" data-toc-modified-id=\"Additional-Mapping-Functionality-with-Matplotlib,-Networks-with-OSMNX-(cont'd),-GeoPandas-Read-FGDB,-KML-2\">Additional Mapping Functionality with Matplotlib, Networks with OSMNX (cont'd), GeoPandas Read FGDB, KML</a></span></li><li><span><a href=\"#Class-Links\" data-toc-modified-id=\"Class-Links-3\">Class Links</a></span></li><li><span><a href=\"#Code-Wars---Python\" data-toc-modified-id=\"Code-Wars---Python-4\">Code Wars - Python</a></span></li><li><span><a href=\"#Learning-Objectives\" data-toc-modified-id=\"Learning-Objectives-5\">Learning Objectives</a></span><ul class=\"toc-item\"><li><ul class=\"toc-item\"><li><span><a href=\"#Fork-and-Clone-this-Lesson-Repo\" data-toc-modified-id=\"Fork-and-Clone-this-Lesson-Repo-5.0.1\">Fork and Clone this Lesson Repo</a></span></li></ul></li></ul></li><li><span><a href=\"#First-off,-let's-Upgrade-some-Libraries\" data-toc-modified-id=\"First-off,-let's-Upgrade-some-Libraries-6\">First off, let's Upgrade some Libraries</a></span></li><li><span><a href=\"#Import-Libraries\" data-toc-modified-id=\"Import-Libraries-7\">Import Libraries</a></span></li><li><span><a href=\"#Reading-additional-Geospatial-Data-Formats-with-GeoPandas\" data-toc-modified-id=\"Reading-additional-Geospatial-Data-Formats-with-GeoPandas-8\">Reading additional Geospatial Data Formats with GeoPandas</a></span></li><li><span><a href=\"#File-Geodatabase\" data-toc-modified-id=\"File-Geodatabase-9\">File Geodatabase</a></span><ul class=\"toc-item\"><li><ul class=\"toc-item\"><li><ul class=\"toc-item\"><li><span><a href=\"#Read-in-like-any-normal-file,-but-set-the-driver='FileGDB'-and-define-the-layer-name.\" data-toc-modified-id=\"Read-in-like-any-normal-file,-but-set-the-driver='FileGDB'-and-define-the-layer-name.-9.0.0.1\">Read in like any normal file, but set the <code>driver='FileGDB'</code> and define the <code>layer</code> name.</a></span></li><li><span><a href=\"#Plot-the-File-Geodatabase-Layers\" data-toc-modified-id=\"Plot-the-File-Geodatabase-Layers-9.0.0.2\">Plot the File Geodatabase Layers</a></span></li></ul></li></ul></li></ul></li><li><span><a href=\"#KML-(Keyhole-Markup-Language)---Google/Google-Earth\" data-toc-modified-id=\"KML-(Keyhole-Markup-Language)---Google/Google-Earth-10\">KML (Keyhole Markup Language) - Google/Google Earth</a></span><ul class=\"toc-item\"><li><ul class=\"toc-item\"><li><ul class=\"toc-item\"><li><span><a href=\"#Import-Libraries\" data-toc-modified-id=\"Import-Libraries-10.0.0.1\">Import Libraries</a></span></li><li><span><a href=\"#Enable-the-fiona-driver-for-KML\" data-toc-modified-id=\"Enable-the-fiona-driver-for-KML-10.0.0.2\">Enable the <code>fiona</code> driver for <code>KML</code></a></span></li><li><span><a href=\"#Read-in-the-KML-File,-specificy-the-driver\" data-toc-modified-id=\"Read-in-the-KML-File,-specificy-the-driver-10.0.0.3\">Read in the KML File, specificy the <code>driver</code></a></span></li></ul></li></ul></li></ul></li><li><span><a href=\"#Networks\" data-toc-modified-id=\"Networks-11\">Networks</a></span><ul class=\"toc-item\"><li><span><a href=\"#Networks-with-OSMnx\" data-toc-modified-id=\"Networks-with-OSMnx-11.1\">Networks with OSMnx</a></span><ul class=\"toc-item\"><li><span><a href=\"#OSMnx:-Python-for-Street-Networks\" data-toc-modified-id=\"OSMnx:-Python-for-Street-Networks-11.1.1\">OSMnx: Python for Street Networks</a></span></li><li><span><a href=\"#Installing-OSMnx\" data-toc-modified-id=\"Installing-OSMnx-11.1.2\">Installing OSMnx</a></span></li><li><span><a href=\"#About-OSMnx\" data-toc-modified-id=\"About-OSMnx-11.1.3\">About OSMnx</a></span><ul class=\"toc-item\"><li><span><a href=\"#Links\" data-toc-modified-id=\"Links-11.1.3.1\">Links</a></span></li><li><span><a href=\"#Let's-get-a-Place-Boundary-from-OSMnx\" data-toc-modified-id=\"Let's-get-a-Place-Boundary-from-OSMnx-11.1.3.2\">Let's get a Place Boundary from OSMnx</a></span></li><li><span><a href=\"#Plot-city\" data-toc-modified-id=\"Plot-city-11.1.3.3\">Plot <code>city</code></a></span></li><li><span><a href=\"#OSMnx,-has-it's-own-Function-to-save-as-a-shapefile,-in-a-folder-called-data\" data-toc-modified-id=\"OSMnx,-has-it's-own-Function-to-save-as-a-shapefile,-in-a-folder-called-data-11.1.3.4\">OSMnx, has it's own Function to save as a shapefile, in a folder called <code>data</code></a></span></li><li><span><a href=\"#Let's-get-some-Streets-from-Ojai,-California,-via-the-graph_from_place()-function-to-get-the-Streets-Network.\" data-toc-modified-id=\"Let's-get-some-Streets-from-Ojai,-California,-via-the-graph_from_place()-function-to-get-the-Streets-Network.-11.1.3.5\">Let's get some Streets from Ojai, California, via the <code>graph_from_place()</code> function to get the Streets Network.</a></span></li><li><span><a href=\"#Let's-plot-a-graph-of-the-Ojai-Streets-Network\" data-toc-modified-id=\"Let's-plot-a-graph-of-the-Ojai-Streets-Network-11.1.3.6\">Let's plot a graph of the Ojai Streets Network</a></span></li><li><span><a href=\"#This-OSMnx-object-from-ox.graph_from_place()-is-not-a-GeoDataFrame-object\" data-toc-modified-id=\"This-OSMnx-object-from-ox.graph_from_place()-is-not-a-GeoDataFrame-object-11.1.3.7\">This OSMnx object from <code>ox.graph_from_place()</code> is not a GeoDataFrame object</a></span></li><li><span><a href=\"#Let's-get-the-Nodes-and-Edges-of-the-Graph\" data-toc-modified-id=\"Let's-get-the-Nodes-and-Edges-of-the-Graph-11.1.3.8\">Let's get the Nodes and Edges of the Graph</a></span></li><li><span><a href=\"#Let's-look-at-graph_gdfs\" data-toc-modified-id=\"Let's-look-at-graph_gdfs-11.1.3.9\">Let's look at <code>graph_gdfs</code></a></span></li><li><span><a href=\"#We'll-also-grab-the-boundary-for-Ojai,-California\" data-toc-modified-id=\"We'll-also-grab-the-boundary-for-Ojai,-California-11.1.3.10\">We'll also grab the boundary for Ojai, California</a></span></li><li><span><a href=\"#Plot-them-together\" data-toc-modified-id=\"Plot-them-together-11.1.3.11\">Plot them together</a></span></li><li><span><a href=\"#Let's-grab-a-road-network-around-Pratt-University\" data-toc-modified-id=\"Let's-grab-a-road-network-around-Pratt-University-11.1.3.12\">Let's grab a road network around Pratt University</a></span></li><li><span><a href=\"#OSMnx-allows-for-quick-projection-to-UTM-Zone\" data-toc-modified-id=\"OSMnx-allows-for-quick-projection-to-UTM-Zone-11.1.3.13\">OSMnx allows for quick projection to UTM Zone</a></span></li><li><span><a href=\"#Let's-look-at-the-Projection-system-(crs)-info\" data-toc-modified-id=\"Let's-look-at-the-Projection-system-(crs)-info-11.1.3.14\">Let's look at the Projection system (crs) info</a></span></li><li><span><a href=\"#Let's-use-ox.plot_graph-to-plot-our-Graph\" data-toc-modified-id=\"Let's-use-ox.plot_graph-to-plot-our-Graph-11.1.3.15\">Let's use <code>ox.plot_graph</code> to plot our Graph</a></span></li><li><span><a href=\"#Let's-parse-those-out-into-a-set-of-GeoDataFrames\" data-toc-modified-id=\"Let's-parse-those-out-into-a-set-of-GeoDataFrames-11.1.3.16\">Let's parse those out into a set of GeoDataFrames</a></span></li><li><span><a href=\"#And-pull-out-the-intersections-and-the-streets\" data-toc-modified-id=\"And-pull-out-the-intersections-and-the-streets-11.1.3.17\">And pull out the intersections and the streets</a></span></li><li><span><a href=\"#Let's-run-this-code-to-get-our-address-DataFrame-from-last-lesson.\" data-toc-modified-id=\"Let's-run-this-code-to-get-our-address-DataFrame-from-last-lesson.-11.1.3.18\">Let's run this code to get our <code>address</code> DataFrame from last lesson.</a></span></li><li><span><a href=\"#Let's-grab-just-the-pratt-address-from-our-address-GeoDataFrame\" data-toc-modified-id=\"Let's-grab-just-the-pratt-address-from-our-address-GeoDataFrame-11.1.3.19\">Let's grab just the pratt address from our <code>address</code> GeoDataFrame</a></span></li><li><span><a href=\"#Let's-overlay-our-Radial-Buffer-and-our-Network-Analysis-1km-output.\" data-toc-modified-id=\"Let's-overlay-our-Radial-Buffer-and-our-Network-Analysis-1km-output.-11.1.3.20\">Let's overlay our Radial Buffer and our Network Analysis 1km output.</a></span></li></ul></li></ul></li></ul></li><li><span><a href=\"#Let's-use-a-smaller-buffer-and-&quot;Clip&quot;-our-Streets-Data\" data-toc-modified-id=\"Let's-use-a-smaller-buffer-and-&quot;Clip&quot;-our-Streets-Data-12\">Let's use a smaller buffer and \"Clip\" our Streets Data</a></span><ul class=\"toc-item\"><li><ul class=\"toc-item\"><li><ul class=\"toc-item\"><li><span><a href=\"#Copy-our-pratt_point\" data-toc-modified-id=\"Copy-our-pratt_point-12.0.0.1\">Copy our <code>pratt_point</code></a></span></li><li><span><a href=\"#Plot-our-circle\" data-toc-modified-id=\"Plot-our-circle-12.0.0.2\">Plot our <code>circle</code></a></span></li><li><span><a href=\"#Change-the-CRS-to-NY-State-Plane\" data-toc-modified-id=\"Change-the-CRS-to-NY-State-Plane-12.0.0.3\">Change the CRS to NY State Plane</a></span></li><li><span><a href=\"#Set-it's-geometry-column-to-a-buffer-of-1000-feet\" data-toc-modified-id=\"Set-it's-geometry-column-to-a-buffer-of-1000-feet-12.0.0.4\">Set it's geometry column to a buffer of 1000 feet</a></span></li><li><span><a href=\"#We'll-actually-set-back-to-WGS-84,-not-good-in-practice\" data-toc-modified-id=\"We'll-actually-set-back-to-WGS-84,-not-good-in-practice-12.0.0.5\">We'll actually set back to WGS 84, not good in practice</a></span></li><li><span><a href=\"#Plot\" data-toc-modified-id=\"Plot-12.0.0.6\">Plot</a></span></li><li><span><a href=\"#Plot-pratt_streets\" data-toc-modified-id=\"Plot-pratt_streets-12.0.0.7\">Plot <code>pratt_streets</code></a></span></li></ul></li></ul></li></ul></li><li><span><a href=\"#Spatial-Join-to-Clip-our-Streets\" data-toc-modified-id=\"Spatial-Join-to-Clip-our-Streets-13\">Spatial Join to Clip our Streets</a></span><ul class=\"toc-item\"><li><ul class=\"toc-item\"><li><ul class=\"toc-item\"><li><span><a href=\"#Plot-street_join\" data-toc-modified-id=\"Plot-street_join-13.0.0.1\">Plot <code>street_join</code></a></span></li><li><span><a href=\"#Show-Head-of-street_join\" data-toc-modified-id=\"Show-Head-of-street_join-13.0.0.2\">Show Head of <code>street_join</code></a></span></li><li><span><a href=\"#Query-our-GeoDataFrame,-only-include-features-that-intersect-with-Pratt-1000-feet-circle\" data-toc-modified-id=\"Query-our-GeoDataFrame,-only-include-features-that-intersect-with-Pratt-1000-feet-circle-13.0.0.3\">Query our GeoDataFrame, only include features that intersect with Pratt 1000 feet circle</a></span></li><li><span><a href=\"#Check-the-value_counts()\" data-toc-modified-id=\"Check-the-value_counts()-13.0.0.4\">Check the <code>value_counts()</code></a></span></li></ul></li></ul></li></ul></li><li><span><a href=\"#GeoPandas-Clip-(new-as-of-GeoPandas-0.7)\" data-toc-modified-id=\"GeoPandas-Clip-(new-as-of-GeoPandas-0.7)-14\">GeoPandas Clip (new as of GeoPandas 0.7)</a></span><ul class=\"toc-item\"><li><ul class=\"toc-item\"><li><ul class=\"toc-item\"><li><span><a href=\"#Plot\" data-toc-modified-id=\"Plot-14.0.0.1\">Plot</a></span></li><li><span><a href=\"#Let's-add-some-Background-Context\" data-toc-modified-id=\"Let's-add-some-Background-Context-14.0.0.2\">Let's add some Background Context</a></span></li></ul></li></ul></li></ul></li><li><span><a href=\"#Python-Mapping-Guide\" data-toc-modified-id=\"Python-Mapping-Guide-15\">Python Mapping Guide</a></span><ul class=\"toc-item\"><li><ul class=\"toc-item\"><li><span><a href=\"#Resources:\" data-toc-modified-id=\"Resources:-15.0.1\">Resources:</a></span></li></ul></li><li><span><a href=\"#Map-Elements-Example\" data-toc-modified-id=\"Map-Elements-Example-15.1\">Map Elements Example</a></span></li></ul></li><li><span><a href=\"#Cartopy\" data-toc-modified-id=\"Cartopy-16\">Cartopy</a></span><ul class=\"toc-item\"><li><ul class=\"toc-item\"><li><ul class=\"toc-item\"><li><span><a href=\"#There's-some-issues-with-GEOS-and-Cartopy\" data-toc-modified-id=\"There's-some-issues-with-GEOS-and-Cartopy-16.0.0.1\">There's some issues with GEOS and Cartopy</a></span></li></ul></li></ul></li><li><span><a href=\"#We'll-move-forward-with-Matplotlib-and-Contextily\" data-toc-modified-id=\"We'll-move-forward-with-Matplotlib-and-Contextily-16.1\">We'll move forward with Matplotlib and Contextily</a></span><ul class=\"toc-item\"><li><ul class=\"toc-item\"><li><span><a href=\"#Let's-import-NYC-NTA-Boundaries-and-generate-a-GeoDataFrame\" data-toc-modified-id=\"Let's-import-NYC-NTA-Boundaries-and-generate-a-GeoDataFrame-16.1.0.1\">Let's import NYC NTA Boundaries and generate a GeoDataFrame</a></span></li></ul></li></ul></li><li><span><a href=\"#Very-Customized-Maps-will-take-a-lot-of-code\" data-toc-modified-id=\"Very-Customized-Maps-will-take-a-lot-of-code-16.2\">Very Customized Maps will take a lot of code</a></span></li><li><span><a href=\"#Frame-and-neat-line\" data-toc-modified-id=\"Frame-and-neat-line-16.3\">Frame and neat line</a></span><ul class=\"toc-item\"><li><ul class=\"toc-item\"><li><span><a href=\"#Lets-create-a-Figure-and-add-Axes\" data-toc-modified-id=\"Lets-create-a-Figure-and-add-Axes-16.3.0.1\">Lets create a Figure and add Axes</a></span></li></ul></li></ul></li><li><span><a href=\"#Mapped-area-(figure)\" data-toc-modified-id=\"Mapped-area-(figure)-16.4\">Mapped area (figure)</a></span><ul class=\"toc-item\"><li><ul class=\"toc-item\"><li><span><a href=\"#Get-GeoDataFrames's-.bounds\" data-toc-modified-id=\"Get-GeoDataFrames's-.bounds-16.4.0.1\">Get GeoDataFrames's <code>.bounds</code></a></span></li></ul></li></ul></li><li><span><a href=\"#Let's-set-the-Map-extent\" data-toc-modified-id=\"Let's-set-the-Map-extent-16.5\">Let's set the Map extent</a></span><ul class=\"toc-item\"><li><ul class=\"toc-item\"><li><span><a href=\"#Change-our-.set_xlim(-)\" data-toc-modified-id=\"Change-our-.set_xlim(-)-16.5.0.1\">Change our <code>.set_xlim( )</code></a></span></li><li><span><a href=\"#Change-our-.set_ylim(-)\" data-toc-modified-id=\"Change-our-.set_ylim(-)-16.5.0.2\">Change our <code>.set_ylim( )</code></a></span></li><li><span><a href=\"#Inset-Maps-Reference:-https://github.com/geopandas/geopandas/issues/1114\" data-toc-modified-id=\"Inset-Maps-Reference:-https://github.com/geopandas/geopandas/issues/1114-16.5.0.3\">Inset Maps Reference: <a href=\"https://github.com/geopandas/geopandas/issues/1114\" target=\"_blank\">https://github.com/geopandas/geopandas/issues/1114</a></a></span></li></ul></li></ul></li><li><span><a href=\"#Setting-a-Map's-Title\" data-toc-modified-id=\"Setting-a-Map's-Title-16.6\">Setting a Map's Title</a></span><ul class=\"toc-item\"><li><ul class=\"toc-item\"><li><span><a href=\"#Set-the-Map-Title-by-applying-to-Axes-with-ax.set_title(-)\" data-toc-modified-id=\"Set-the-Map-Title-by-applying-to-Axes-with-ax.set_title(-)-16.6.0.1\">Set the Map Title by applying to Axes with <code>ax.set_title( )</code></a></span></li></ul></li></ul></li><li><span><a href=\"#Legend\" data-toc-modified-id=\"Legend-16.7\">Legend</a></span></li><li><span><a href=\"#Annotate-Data-Source\" data-toc-modified-id=\"Annotate-Data-Source-16.8\">Annotate Data Source</a></span><ul class=\"toc-item\"><li><ul class=\"toc-item\"><li><span><a href=\"#More-on-annotation:-https://jakevdp.github.io/PythonDataScienceHandbook/04.09-text-and-annotation.html\" data-toc-modified-id=\"More-on-annotation:-https://jakevdp.github.io/PythonDataScienceHandbook/04.09-text-and-annotation.html-16.8.0.1\">More on annotation: <a href=\"https://jakevdp.github.io/PythonDataScienceHandbook/04.09-text-and-annotation.html\" target=\"_blank\">https://jakevdp.github.io/PythonDataScienceHandbook/04.09-text-and-annotation.html</a></a></span></li></ul></li></ul></li><li><span><a href=\"#Turn-off-the-axis-and-neatline\" data-toc-modified-id=\"Turn-off-the-axis-and-neatline-16.9\">Turn off the axis and neatline</a></span></li></ul></li><li><span><a href=\"#Basemaps-with-Contextily\" data-toc-modified-id=\"Basemaps-with-Contextily-17\">Basemaps with Contextily</a></span><ul class=\"toc-item\"><li><ul class=\"toc-item\"><li><ul class=\"toc-item\"><li><span><a href=\"#Change-the-Basemap\" data-toc-modified-id=\"Change-the-Basemap-17.0.0.1\">Change the Basemap</a></span></li><li><span><a href=\"#Carto-Basemaps---Positron-Light\" data-toc-modified-id=\"Carto-Basemaps---Positron-Light-17.0.0.2\">Carto Basemaps - Positron Light</a></span></li><li><span><a href=\"#Carto-Positron-Dark---No-Labels\" data-toc-modified-id=\"Carto-Positron-Dark---No-Labels-17.0.0.3\">Carto Positron Dark - No Labels</a></span></li><li><span><a href=\"#More-Carto-(CartoDB)-Basemaps\" data-toc-modified-id=\"More-Carto-(CartoDB)-Basemaps-17.0.0.4\">More Carto (CartoDB) Basemaps</a></span></li><li><span><a href=\"#More-Contextily-Basemaps\" data-toc-modified-id=\"More-Contextily-Basemaps-17.0.0.5\">More Contextily Basemaps</a></span></li></ul></li></ul></li><li><span><a href=\"#Join-our-NTA-data-to-some-Demographic-Data\" data-toc-modified-id=\"Join-our-NTA-data-to-some-Demographic-Data-17.1\">Join our NTA data to some Demographic Data</a></span><ul class=\"toc-item\"><li><ul class=\"toc-item\"><li><span><a href=\"#Read-in-Demographic-Population-Data-2000-2010-from-NYC-DCP\" data-toc-modified-id=\"Read-in-Demographic-Population-Data-2000-2010-from-NYC-DCP-17.1.0.1\">Read in Demographic Population Data 2000-2010 from NYC DCP</a></span></li><li><span><a href=\"#Shape-of-the-data\" data-toc-modified-id=\"Shape-of-the-data-17.1.0.2\">Shape of the data</a></span></li><li><span><a href=\"#List-the-columns\" data-toc-modified-id=\"List-the-columns-17.1.0.3\">List the columns</a></span></li><li><span><a href=\"#Let's-merge-our-datasets\" data-toc-modified-id=\"Let's-merge-our-datasets-17.1.0.4\">Let's merge our datasets</a></span></li><li><span><a href=\"#Describe-our-data\" data-toc-modified-id=\"Describe-our-data-17.1.0.5\">Describe our data</a></span></li><li><span><a href=\"#Plot\" data-toc-modified-id=\"Plot-17.1.0.6\">Plot</a></span></li></ul></li></ul></li><li><span><a href=\"#Now-Let's-Make-this-Map-Better\" data-toc-modified-id=\"Now-Let's-Make-this-Map-Better-17.2\">Now Let's Make this Map Better</a></span></li></ul></li><li><span><a href=\"#Gitignore-Review\" data-toc-modified-id=\"Gitignore-Review-18\">Gitignore Review</a></span><ul class=\"toc-item\"><li><ul class=\"toc-item\"><li><ul class=\"toc-item\"><li><span><a href=\"#Useful-.gitignore-file-links\" data-toc-modified-id=\"Useful-.gitignore-file-links-18.0.0.1\">Useful <code>.gitignore</code> file links</a></span></li></ul></li></ul></li></ul></li></ul></div>"
   ]
  },
  {
   "cell_type": "markdown",
   "metadata": {},
   "source": [
    "# Code Wars - Python\n",
    "\n",
    "* [Kata - Getting Started With Python!](https://www.codewars.com/collections/getting-started-with-python-1)"
   ]
  },
  {
   "cell_type": "markdown",
   "metadata": {},
   "source": [
    "# Learning Objectives\n",
    "\n",
    "\n",
    "* Additional Mapping Functionality with Matplotlib\n",
    "* Networks with OSMNX (cont'd)\n",
    "* GeoPandas Read FGDB, KML\n",
    "\n",
    "\n",
    "### Fork and Clone this Lesson Repo\n",
    "\n",
    "https://github.com/pratt-savi-810/pratt-savi-810-2020-03-lesson_09\n",
    "\n",
    "\n"
   ]
  },
  {
   "cell_type": "markdown",
   "metadata": {},
   "source": [
    "# First off, let's Upgrade some Libraries"
   ]
  },
  {
   "cell_type": "code",
   "execution_count": 1,
   "metadata": {},
   "outputs": [],
   "source": [
    "# !pip install geopandas --upgrade"
   ]
  },
  {
   "cell_type": "code",
   "execution_count": 2,
   "metadata": {},
   "outputs": [],
   "source": [
    "# !pip install osmnx --upgrade"
   ]
  },
  {
   "cell_type": "code",
   "execution_count": 3,
   "metadata": {},
   "outputs": [],
   "source": [
    "# !pip install contextily"
   ]
  },
  {
   "cell_type": "markdown",
   "metadata": {},
   "source": [
    "# Import Libraries\n",
    "\n",
    "Let's `import` some of the libraries we've already used. "
   ]
  },
  {
   "cell_type": "code",
   "execution_count": 2,
   "metadata": {},
   "outputs": [],
   "source": [
    "import os\n",
    "import sys\n",
    "module_path = os.path.abspath(os.path.join('..'))\n",
    "if module_path not in sys.path:\n",
    "    sys.path.append(module_path)\n",
    "    \n",
    "\n",
    "from IPython.display import IFrame\n",
    "import pandas as pd\n",
    "import geopandas as gpd\n",
    "import matplotlib.pyplot as plt\n",
    "import numpy as np\n",
    "import missingno as msno\n",
    "import seaborn as sns\n",
    "import matplotlib.patches as patches\n",
    "import warnings\n",
    "import networkx as nx\n",
    "import osmnx as ox\n",
    "import requests\n",
    "import matplotlib.cm as cm\n",
    "import matplotlib.colors as colors\n",
    "ox.config(use_cache=True, log_console=True)\n",
    "warnings.filterwarnings('ignore')\n",
    "warnings.simplefilter('ignore')\n",
    "\n",
    "\n",
    "%matplotlib inline\n",
    "%load_ext autoreload\n",
    "%autoreload 2"
   ]
  },
  {
   "cell_type": "code",
   "execution_count": 1,
   "metadata": {},
   "outputs": [],
   "source": [
    "# gpd version"
   ]
  },
  {
   "cell_type": "code",
   "execution_count": 2,
   "metadata": {},
   "outputs": [],
   "source": [
    "# osmnx version (12)"
   ]
  },
  {
   "cell_type": "markdown",
   "metadata": {},
   "source": [
    "# Reading additional Geospatial Data Formats with GeoPandas"
   ]
  },
  {
   "cell_type": "markdown",
   "metadata": {},
   "source": [
    "# File Geodatabase\n",
    "\n",
    "Get the list of the layers using `fiona`"
   ]
  },
  {
   "cell_type": "code",
   "execution_count": null,
   "metadata": {},
   "outputs": [],
   "source": []
  },
  {
   "cell_type": "markdown",
   "metadata": {},
   "source": [
    "#### Read in like any normal file, but set the `driver='FileGDB'` and define the `layer` name."
   ]
  },
  {
   "cell_type": "code",
   "execution_count": null,
   "metadata": {},
   "outputs": [],
   "source": []
  },
  {
   "cell_type": "code",
   "execution_count": null,
   "metadata": {},
   "outputs": [],
   "source": []
  },
  {
   "cell_type": "markdown",
   "metadata": {},
   "source": [
    "#### Plot the File Geodatabase Layers"
   ]
  },
  {
   "cell_type": "code",
   "execution_count": null,
   "metadata": {},
   "outputs": [],
   "source": []
  },
  {
   "cell_type": "markdown",
   "metadata": {},
   "source": [
    "# KML (Keyhole Markup Language) - Google/Google Earth"
   ]
  },
  {
   "cell_type": "markdown",
   "metadata": {},
   "source": [
    "#### Import Libraries"
   ]
  },
  {
   "cell_type": "code",
   "execution_count": null,
   "metadata": {},
   "outputs": [],
   "source": []
  },
  {
   "cell_type": "markdown",
   "metadata": {},
   "source": [
    "#### Enable the `fiona` driver for `KML`"
   ]
  },
  {
   "cell_type": "code",
   "execution_count": 365,
   "metadata": {},
   "outputs": [],
   "source": [
    "# Enable fiona driver\n",
    "gpd.io.file.fiona.drvsupport.supported_drivers['KML'] = 'rw'\n",
    "# https://gist.github.com/mazzma12/0a32ce693bb42b742252caabb98519db"
   ]
  },
  {
   "cell_type": "markdown",
   "metadata": {},
   "source": [
    "#### Read in the KML File, specificy the `driver`"
   ]
  },
  {
   "cell_type": "code",
   "execution_count": null,
   "metadata": {},
   "outputs": [],
   "source": []
  },
  {
   "cell_type": "code",
   "execution_count": null,
   "metadata": {},
   "outputs": [],
   "source": []
  },
  {
   "cell_type": "markdown",
   "metadata": {},
   "source": [
    "# Networks"
   ]
  },
  {
   "cell_type": "markdown",
   "metadata": {},
   "source": [
    "## Networks with OSMnx\n",
    "\n",
    "### OSMnx: Python for Street Networks\n",
    "\n",
    "\n",
    "### Installing OSMnx\n",
    "\n",
    "\n",
    "```$ pip install osmnx==0.11```  **UPDATE** We are now testing v 0.12\n",
    "\n",
    "> If you are pip installing OSMnx, install geopandas and rtree first. It’s easiest to use conda-forge to get these dependencies installed. If you’re interested in OSMnx but don’t know where to begin, check out this guide to getting started with Python. Source: https://geoffboeing.com/2016/11/osmnx-python-street-networks/\n",
    "\n",
    "**Note** - If you experience a error, it may be that you didn't install `osmnx` as specified above. See this [GitHub Issue](https://github.com/gboeing/osmnx/issues/197)\n",
    "\n",
    "### About OSMnx\n",
    "\n",
    "> OSMnx: retrieve, model, analyze, and visualize street networks from OpenStreetMap. OSMnx is a Python package that lets you download spatial geometries and model, project, visualize, and analyze street networks and other spatial data from OpenStreetMap’s APIs. Users can download and model walkable, drivable, or bikable urban networks with a single line of Python code, and then easily analyze and visualize them. Source: https://osmnx.readthedocs.io/en/stable\n",
    "\n",
    "#### Links\n",
    "\n",
    "* https://geoffboeing.com/2016/11/osmnx-python-street-networks/\n",
    "    \n",
    "* https://github.com/gboeing/osmnx\n",
    "        \n",
    "* https://osmnx.readthedocs.io/en/stable/\n"
   ]
  },
  {
   "cell_type": "markdown",
   "metadata": {},
   "source": [
    "#### Let's get a Place Boundary from OSMnx"
   ]
  },
  {
   "cell_type": "code",
   "execution_count": 5,
   "metadata": {},
   "outputs": [],
   "source": [
    "# get the boundary polygon for manhattan, save it as a shapefile, project it to UTM, and plot it\n",
    "city = ox.gdf_from_place('Manhattan, New York, New York, USA')"
   ]
  },
  {
   "cell_type": "markdown",
   "metadata": {},
   "source": [
    "#### Plot `city`"
   ]
  },
  {
   "cell_type": "code",
   "execution_count": 6,
   "metadata": {},
   "outputs": [
    {
     "data": {
      "image/png": "[encoded data removed]",
      "text/plain": [
       "<Figure size 432x288 with 1 Axes>"
      ]
     },
     "metadata": {
      "needs_background": "light"
     },
     "output_type": "display_data"
    }
   ],
   "source": [
    "city.plot();"
   ]
  },
  {
   "cell_type": "markdown",
   "metadata": {},
   "source": [
    "#### OSMnx, has it's own Function to save as a shapefile, in a folder called `data`"
   ]
  },
  {
   "cell_type": "code",
   "execution_count": 7,
   "metadata": {},
   "outputs": [],
   "source": [
    "ox.save_gdf_shapefile(city) "
   ]
  },
  {
   "cell_type": "markdown",
   "metadata": {},
   "source": [
    "#### Let's get some Streets from Ojai, California, via the `graph_from_place()` function to get the Streets Network. "
   ]
  },
  {
   "cell_type": "code",
   "execution_count": 8,
   "metadata": {},
   "outputs": [],
   "source": [
    "ojai_streets = ox.graph_from_place('Ojai, California') #, network_type='drive')\n",
    "\n",
    "# this may take a while, \n",
    "# think of it like downloading a file"
   ]
  },
  {
   "cell_type": "markdown",
   "metadata": {},
   "source": [
    "#### Let's plot a graph of the Ojai Streets Network"
   ]
  },
  {
   "cell_type": "code",
   "execution_count": 9,
   "metadata": {},
   "outputs": [
    {
     "data": {
      "image/png": "[encoded data removed]",
      "text/plain": [
       "<Figure size 520.912x432 with 1 Axes>"
      ]
     },
     "metadata": {},
     "output_type": "display_data"
    }
   ],
   "source": [
    "ox.plot_graph(ojai_streets);"
   ]
  },
  {
   "cell_type": "markdown",
   "metadata": {},
   "source": [
    "#### This OSMnx object from `ox.graph_from_place()` is not a GeoDataFrame object"
   ]
  },
  {
   "cell_type": "code",
   "execution_count": null,
   "metadata": {},
   "outputs": [],
   "source": []
  },
  {
   "cell_type": "markdown",
   "metadata": {},
   "source": [
    "#### Let's get the Nodes and Edges of the Graph"
   ]
  },
  {
   "cell_type": "code",
   "execution_count": null,
   "metadata": {},
   "outputs": [],
   "source": []
  },
  {
   "cell_type": "markdown",
   "metadata": {},
   "source": [
    "#### Let's look at `graph_gdfs`"
   ]
  },
  {
   "cell_type": "code",
   "execution_count": null,
   "metadata": {},
   "outputs": [],
   "source": []
  },
  {
   "cell_type": "code",
   "execution_count": null,
   "metadata": {},
   "outputs": [],
   "source": []
  },
  {
   "cell_type": "markdown",
   "metadata": {},
   "source": [
    "#### We'll also grab the boundary for Ojai, California"
   ]
  },
  {
   "cell_type": "code",
   "execution_count": null,
   "metadata": {},
   "outputs": [],
   "source": []
  },
  {
   "cell_type": "code",
   "execution_count": null,
   "metadata": {},
   "outputs": [],
   "source": []
  },
  {
   "cell_type": "markdown",
   "metadata": {},
   "source": [
    "#### Plot them together"
   ]
  },
  {
   "cell_type": "code",
   "execution_count": null,
   "metadata": {},
   "outputs": [],
   "source": []
  },
  {
   "cell_type": "markdown",
   "metadata": {},
   "source": [
    "#### Let's grab a road network around Pratt University"
   ]
  },
  {
   "cell_type": "code",
   "execution_count": 17,
   "metadata": {},
   "outputs": [],
   "source": [
    "# source: https://github.com/gboeing/osmnx-examples/tree/master/notebooks\n",
    "\n",
    "\n"
   ]
  },
  {
   "cell_type": "markdown",
   "metadata": {},
   "source": [
    "#### OSMnx allows for quick projection to UTM Zone"
   ]
  },
  {
   "cell_type": "code",
   "execution_count": 3,
   "metadata": {},
   "outputs": [],
   "source": [
    "# you can project the network to UTM (zone calculated automatically)\n"
   ]
  },
  {
   "cell_type": "markdown",
   "metadata": {},
   "source": [
    "#### Let's look at the Projection system (crs) info "
   ]
  },
  {
   "cell_type": "code",
   "execution_count": null,
   "metadata": {},
   "outputs": [],
   "source": []
  },
  {
   "cell_type": "markdown",
   "metadata": {},
   "source": [
    "#### Let's use `ox.plot_graph` to plot our Graph"
   ]
  },
  {
   "cell_type": "code",
   "execution_count": null,
   "metadata": {},
   "outputs": [],
   "source": []
  },
  {
   "cell_type": "markdown",
   "metadata": {},
   "source": [
    "#### Let's parse those out into a set of GeoDataFrames"
   ]
  },
  {
   "cell_type": "code",
   "execution_count": 4,
   "metadata": {},
   "outputs": [],
   "source": [
    "# source: https://github.com/gboeing/osmnx-examples/tree/master/notebooks\n"
   ]
  },
  {
   "cell_type": "markdown",
   "metadata": {},
   "source": [
    "#### And pull out the intersections and the streets"
   ]
  },
  {
   "cell_type": "code",
   "execution_count": null,
   "metadata": {},
   "outputs": [],
   "source": []
  },
  {
   "cell_type": "markdown",
   "metadata": {},
   "source": [
    "#### Let's run this code to get our `address` DataFrame from last lesson. "
   ]
  },
  {
   "cell_type": "code",
   "execution_count": 23,
   "metadata": {},
   "outputs": [],
   "source": [
    "from geopy.geocoders import Nominatim\n",
    "from shapely.geometry import Point  # importing the Point class\n",
    "from geopandas import GeoDataFrame\n",
    "\n",
    "data = {\n",
    "    'address': [\n",
    "        '175 5th Avenue NYC',\n",
    "        '200 Willoughby Ave, Brooklyn, NY 11205',\n",
    "        '315 Bowery, NY, NY',\n",
    "    ],\n",
    "    'name': [\n",
    "        'Flatiron Bldg',\n",
    "        'Pratt',\n",
    "        \"CBGB's\"\n",
    "    ]\n",
    "}\n",
    "\n",
    "geolocator = Nominatim(user_agent='pratt_geospatial')\n",
    "\n",
    "df = pd.DataFrame(data, columns=data.keys())\n",
    "\n",
    "df['geocode'] = df['address'].apply(geolocator.geocode)  \n",
    "\n",
    "df['geometry'] = df['geocode'].apply(\n",
    "    lambda x: \n",
    "        Point(x.longitude, x.latitude)\n",
    ") # create a geometry column\n",
    "\n",
    "address = GeoDataFrame(df, geometry='geometry', crs='epsg:4326')"
   ]
  },
  {
   "cell_type": "markdown",
   "metadata": {},
   "source": [
    "#### Let's grab just the pratt address from our `address` GeoDataFrame"
   ]
  },
  {
   "cell_type": "code",
   "execution_count": 24,
   "metadata": {},
   "outputs": [],
   "source": []
  },
  {
   "cell_type": "markdown",
   "metadata": {},
   "source": [
    "#### Let's overlay our Radial Buffer and our Network Analysis 1km output. "
   ]
  },
  {
   "cell_type": "code",
   "execution_count": 6,
   "metadata": {},
   "outputs": [],
   "source": [
    "# source: https://github.com/gboeing/osmnx-examples/tree/master/notebooks\n",
    "\n"
   ]
  },
  {
   "cell_type": "markdown",
   "metadata": {},
   "source": [
    "# Let's use a smaller buffer and \"Clip\" our Streets Data"
   ]
  },
  {
   "cell_type": "markdown",
   "metadata": {},
   "source": [
    "#### Copy our `pratt_point`"
   ]
  },
  {
   "cell_type": "code",
   "execution_count": null,
   "metadata": {},
   "outputs": [],
   "source": []
  },
  {
   "cell_type": "markdown",
   "metadata": {},
   "source": [
    "#### Plot our `circle`"
   ]
  },
  {
   "cell_type": "code",
   "execution_count": null,
   "metadata": {},
   "outputs": [],
   "source": []
  },
  {
   "cell_type": "markdown",
   "metadata": {},
   "source": [
    "#### Change the CRS to NY State Plane\n"
   ]
  },
  {
   "cell_type": "code",
   "execution_count": null,
   "metadata": {},
   "outputs": [],
   "source": []
  },
  {
   "cell_type": "markdown",
   "metadata": {},
   "source": [
    "#### Set it's geometry column to a buffer of 1000 feet"
   ]
  },
  {
   "cell_type": "code",
   "execution_count": null,
   "metadata": {},
   "outputs": [],
   "source": []
  },
  {
   "cell_type": "markdown",
   "metadata": {},
   "source": [
    "#### We'll actually set back to WGS 84, not good in practice"
   ]
  },
  {
   "cell_type": "code",
   "execution_count": null,
   "metadata": {},
   "outputs": [],
   "source": []
  },
  {
   "cell_type": "markdown",
   "metadata": {},
   "source": [
    "#### Plot"
   ]
  },
  {
   "cell_type": "code",
   "execution_count": null,
   "metadata": {},
   "outputs": [],
   "source": []
  },
  {
   "cell_type": "markdown",
   "metadata": {},
   "source": [
    "#### Plot `pratt_streets`"
   ]
  },
  {
   "cell_type": "code",
   "execution_count": null,
   "metadata": {},
   "outputs": [],
   "source": []
  },
  {
   "cell_type": "code",
   "execution_count": 7,
   "metadata": {},
   "outputs": [],
   "source": [
    "# code here \n",
    "# code here \n",
    "# code here \n",
    "\n",
    "plt.show();"
   ]
  },
  {
   "cell_type": "markdown",
   "metadata": {},
   "source": [
    "# Spatial Join to Clip our Streets "
   ]
  },
  {
   "cell_type": "code",
   "execution_count": 313,
   "metadata": {},
   "outputs": [],
   "source": []
  },
  {
   "cell_type": "markdown",
   "metadata": {},
   "source": [
    "#### Plot `street_join`"
   ]
  },
  {
   "cell_type": "code",
   "execution_count": null,
   "metadata": {},
   "outputs": [],
   "source": []
  },
  {
   "cell_type": "markdown",
   "metadata": {},
   "source": [
    "#### Show Head of `street_join`"
   ]
  },
  {
   "cell_type": "code",
   "execution_count": null,
   "metadata": {},
   "outputs": [],
   "source": []
  },
  {
   "cell_type": "markdown",
   "metadata": {},
   "source": [
    "#### Query our GeoDataFrame, only include features that intersect with Pratt 1000 feet circle"
   ]
  },
  {
   "cell_type": "code",
   "execution_count": null,
   "metadata": {},
   "outputs": [],
   "source": []
  },
  {
   "cell_type": "markdown",
   "metadata": {},
   "source": [
    "#### Check the `value_counts()`"
   ]
  },
  {
   "cell_type": "code",
   "execution_count": null,
   "metadata": {},
   "outputs": [],
   "source": []
  },
  {
   "cell_type": "markdown",
   "metadata": {},
   "source": [
    "# GeoPandas Clip (new as of GeoPandas 0.7)\n",
    "\n",
    "https://geopandas.org/gallery/plot_clip.html"
   ]
  },
  {
   "cell_type": "code",
   "execution_count": null,
   "metadata": {},
   "outputs": [],
   "source": []
  },
  {
   "cell_type": "code",
   "execution_count": null,
   "metadata": {},
   "outputs": [],
   "source": []
  },
  {
   "cell_type": "markdown",
   "metadata": {},
   "source": [
    "#### Plot"
   ]
  },
  {
   "cell_type": "code",
   "execution_count": null,
   "metadata": {},
   "outputs": [],
   "source": []
  },
  {
   "cell_type": "markdown",
   "metadata": {},
   "source": [
    "#### Let's add some Background Context"
   ]
  },
  {
   "cell_type": "code",
   "execution_count": null,
   "metadata": {},
   "outputs": [],
   "source": [
    "# import contextily "
   ]
  },
  {
   "cell_type": "code",
   "execution_count": 8,
   "metadata": {},
   "outputs": [],
   "source": [
    "fig, ax = plt.subplots(figsize=(12, 12))\n",
    "\n",
    "#### .to_crs(epsg=3857)    circle.plot(ax=ax)\n",
    "#### .to_crs(epsg=3857)    pratt_streets.plot(ax=ax, color='red')\n",
    "\n",
    "#### .to_crs(epsg=3857)    street_clip.plot(ax=ax, color='yellow', linewidth=3)\n",
    "\n",
    "plt.title('Pratt Streets with Smaller Buffer and Clipped Streets')\n",
    "\n",
    "basemap_url = \"https://{s}.basemaps.cartocdn.com/light_nolabels/{z}/{x}/{y}.png\"\n",
    "\n",
    "#### code here\n",
    "\n",
    "ax.axis('off')\n",
    "plt.show();"
   ]
  },
  {
   "cell_type": "markdown",
   "metadata": {},
   "source": [
    "# Python Mapping Guide"
   ]
  },
  {
   "cell_type": "markdown",
   "metadata": {},
   "source": [
    "Slocum’s (Thematic Cartography and Geovisualization) Map Elements\n",
    "* Frame and neat line\n",
    "* Mapped area (figure)\n",
    "* Inset\n",
    "* Title and subtitle\n",
    "* Legend\n",
    "* Data source\n",
    "* Scale\n",
    "* Orientation\n",
    "\n",
    "### Resources:\n",
    "* [GeoPandas Mapping Tools](https://geopandas.org/mapping.html)\n",
    "* [Geospatial data mapping with python](https://mohammadimranhasan.com/geospatial-data-mapping-with-python/)\n",
    "\n",
    "\n",
    "## Map Elements Example\n",
    "![map](https://saylordotorg.github.io/text_essentials-of-geographic-information-systems/section_13/0c71cd48743695df3cb5ca49fd858393.jpg)\n",
    "_Source: [https://saylordotorg.github.io/text_essentials-of-geographic-information-systems/s13-03-cartographic-design.html](https://saylordotorg.github.io/text_essentials-of-geographic-information-systems/s13-03-cartographic-design.html)_"
   ]
  },
  {
   "cell_type": "markdown",
   "metadata": {},
   "source": [
    "# Cartopy\n",
    "\n",
    "![cartopy](https://scitools.org.uk/cartopy/docs/latest/_static/cartopy.png)\n",
    "\n",
    "> Cartopy is a Python package designed for geospatial data processing in order to produce maps and other geospatial data analyses.\n",
    "\n",
    "> Cartopy makes use of the powerful PROJ.4, NumPy and Shapely libraries and includes a programmatic interface built on top of Matplotlib for the creation of publication quality maps.\n",
    "\n",
    "> Key features of cartopy are its object oriented projection definitions, and its ability to transform points, lines, vectors, polygons and images between those projections.\n",
    "\n",
    "> You will find cartopy especially useful for large area / small scale data, where Cartesian assumptions of spherical data traditionally break down. If you’ve ever experienced a singularity at the pole or a cut-off at the dateline, it is likely you will appreciate cartopy’s unique features! Source: https://scitools.org.uk/cartopy/docs/latest/\n",
    "\n",
    "#### There's some issues with GEOS and Cartopy \n",
    "\n",
    "## We'll move forward with Matplotlib and Contextily"
   ]
  },
  {
   "cell_type": "markdown",
   "metadata": {},
   "source": [
    "#### Let's import NYC NTA Boundaries and generate a GeoDataFrame"
   ]
  },
  {
   "cell_type": "markdown",
   "metadata": {},
   "source": [
    "## Very Customized Maps will take a lot of code\n",
    "\n",
    "![lines of code](https://i.redd.it/zhscjhjr3nb21.jpg)"
   ]
  },
  {
   "cell_type": "code",
   "execution_count": 264,
   "metadata": {},
   "outputs": [],
   "source": [
    "nyc_nta_geojson = 'https://data.cityofnewyork.us/api/geospatial/cpf4-rkhq?method=export&format=GeoJSON'\n",
    "\n",
    "nta_gdf = gpd.read_file(nyc_nta_geojson)\n",
    "nta_gdf.to_crs(2263, inplace=True)"
   ]
  },
  {
   "cell_type": "markdown",
   "metadata": {},
   "source": [
    "## Frame and neat line\n",
    "\n",
    "#### Lets create a Figure and add Axes\n",
    "\n",
    "> Axes object is the region of the image with the data space. A given figure can contain many Axes, but a given Axes object can only be in one Figure. The Axes contains two (or three in the case of 3D) Axis objects. The Axes class and its member functions are the primary entry point to working with the OO interface.\n",
    "\n",
    "> Axes object is added to figure by calling the add_axes() method. It returns the axes object and adds an axes at position rect [left, bottom, width, height] where all quantities are in fractions of figure width and height. Source: https://www.tutorialspoint.com/matplotlib/matplotlib_axes_class.htm"
   ]
  },
  {
   "cell_type": "code",
   "execution_count": null,
   "metadata": {},
   "outputs": [],
   "source": []
  },
  {
   "cell_type": "markdown",
   "metadata": {},
   "source": [
    "## Mapped area (figure)\n"
   ]
  },
  {
   "cell_type": "code",
   "execution_count": null,
   "metadata": {},
   "outputs": [],
   "source": []
  },
  {
   "cell_type": "markdown",
   "metadata": {},
   "source": [
    "#### Get GeoDataFrames's `.bounds`"
   ]
  },
  {
   "cell_type": "code",
   "execution_count": null,
   "metadata": {},
   "outputs": [],
   "source": []
  },
  {
   "cell_type": "code",
   "execution_count": null,
   "metadata": {},
   "outputs": [],
   "source": []
  },
  {
   "cell_type": "markdown",
   "metadata": {},
   "source": [
    "## Let's set the Map extent"
   ]
  },
  {
   "cell_type": "markdown",
   "metadata": {},
   "source": [
    "#### Change our `.set_xlim( )` "
   ]
  },
  {
   "cell_type": "code",
   "execution_count": null,
   "metadata": {},
   "outputs": [],
   "source": []
  },
  {
   "cell_type": "markdown",
   "metadata": {},
   "source": [
    "#### Change our `.set_ylim( )` "
   ]
  },
  {
   "cell_type": "code",
   "execution_count": null,
   "metadata": {},
   "outputs": [],
   "source": []
  },
  {
   "cell_type": "markdown",
   "metadata": {},
   "source": [
    "#### Inset Maps Reference: https://github.com/geopandas/geopandas/issues/1114"
   ]
  },
  {
   "cell_type": "markdown",
   "metadata": {},
   "source": [
    "## Setting a Map's Title \n",
    "\n",
    "Set with `plt.title( )`\n"
   ]
  },
  {
   "cell_type": "code",
   "execution_count": null,
   "metadata": {},
   "outputs": [],
   "source": []
  },
  {
   "cell_type": "markdown",
   "metadata": {},
   "source": [
    "#### Set the Map Title by applying to Axes with `ax.set_title( )`"
   ]
  },
  {
   "cell_type": "code",
   "execution_count": null,
   "metadata": {},
   "outputs": [],
   "source": []
  },
  {
   "cell_type": "markdown",
   "metadata": {},
   "source": [
    "## Legend\n",
    "\n",
    "PyPlot Legends : https://matplotlib.org/3.2.1/api/_as_gen/matplotlib.pyplot.legend.html\n"
   ]
  },
  {
   "cell_type": "code",
   "execution_count": null,
   "metadata": {},
   "outputs": [],
   "source": []
  },
  {
   "cell_type": "markdown",
   "metadata": {},
   "source": [
    "## Annotate Data Source\n"
   ]
  },
  {
   "cell_type": "code",
   "execution_count": null,
   "metadata": {},
   "outputs": [],
   "source": []
  },
  {
   "cell_type": "markdown",
   "metadata": {},
   "source": [
    "#### More on annotation: https://jakevdp.github.io/PythonDataScienceHandbook/04.09-text-and-annotation.html"
   ]
  },
  {
   "cell_type": "markdown",
   "metadata": {},
   "source": [
    "## Turn off the axis and neatline "
   ]
  },
  {
   "cell_type": "code",
   "execution_count": null,
   "metadata": {},
   "outputs": [],
   "source": []
  },
  {
   "cell_type": "code",
   "execution_count": null,
   "metadata": {},
   "outputs": [],
   "source": []
  },
  {
   "cell_type": "markdown",
   "metadata": {},
   "source": [
    "# Basemaps with Contextily\n",
    "\n",
    "> contextily is a small Python 3 package to retrieve and write to disk tile maps from the internet into geospatial raster files. Bounding boxes can be passed in both WGS84 (EPSG:4326) and Spheric Mercator (EPSG:3857). See the notebook contextily_guide.ipynb for usage. Source: https://github.com/darribas/contextily"
   ]
  },
  {
   "cell_type": "code",
   "execution_count": null,
   "metadata": {},
   "outputs": [],
   "source": []
  },
  {
   "cell_type": "markdown",
   "metadata": {},
   "source": [
    "#### Change the Basemap"
   ]
  },
  {
   "cell_type": "code",
   "execution_count": null,
   "metadata": {},
   "outputs": [],
   "source": []
  },
  {
   "cell_type": "markdown",
   "metadata": {},
   "source": [
    "#### Carto Basemaps - Positron Light"
   ]
  },
  {
   "cell_type": "code",
   "execution_count": null,
   "metadata": {},
   "outputs": [],
   "source": []
  },
  {
   "cell_type": "markdown",
   "metadata": {},
   "source": [
    "#### Carto Positron Dark - No Labels"
   ]
  },
  {
   "cell_type": "code",
   "execution_count": null,
   "metadata": {},
   "outputs": [],
   "source": []
  },
  {
   "cell_type": "markdown",
   "metadata": {},
   "source": [
    "#### More Carto (CartoDB) Basemaps\n",
    "\n",
    "https://github.com/CartoDB/basemap-styles\n",
    "\n",
    "\n",
    "#### More Contextily Basemaps\n",
    "\n",
    "https://github.com/darribas/contextily/blob/master/contextily/tile_providers.py"
   ]
  },
  {
   "cell_type": "markdown",
   "metadata": {},
   "source": [
    "## Join our NTA data to some Demographic Data"
   ]
  },
  {
   "cell_type": "code",
   "execution_count": null,
   "metadata": {},
   "outputs": [],
   "source": []
  },
  {
   "cell_type": "markdown",
   "metadata": {},
   "source": [
    "#### Read in Demographic Population Data 2000-2010 from NYC DCP "
   ]
  },
  {
   "cell_type": "code",
   "execution_count": 382,
   "metadata": {},
   "outputs": [],
   "source": []
  },
  {
   "cell_type": "markdown",
   "metadata": {},
   "source": [
    "#### Shape of the data"
   ]
  },
  {
   "cell_type": "code",
   "execution_count": null,
   "metadata": {},
   "outputs": [],
   "source": []
  },
  {
   "cell_type": "markdown",
   "metadata": {},
   "source": [
    "#### List the columns"
   ]
  },
  {
   "cell_type": "code",
   "execution_count": null,
   "metadata": {},
   "outputs": [],
   "source": []
  },
  {
   "cell_type": "markdown",
   "metadata": {},
   "source": [
    "#### Let's merge our datasets"
   ]
  },
  {
   "cell_type": "code",
   "execution_count": null,
   "metadata": {},
   "outputs": [],
   "source": []
  },
  {
   "cell_type": "markdown",
   "metadata": {},
   "source": [
    "#### Describe our data"
   ]
  },
  {
   "cell_type": "code",
   "execution_count": null,
   "metadata": {},
   "outputs": [],
   "source": []
  },
  {
   "cell_type": "markdown",
   "metadata": {},
   "source": [
    "#### Plot"
   ]
  },
  {
   "cell_type": "code",
   "execution_count": null,
   "metadata": {},
   "outputs": [],
   "source": []
  },
  {
   "cell_type": "markdown",
   "metadata": {},
   "source": [
    "## Now Let's Make this Map Better"
   ]
  },
  {
   "cell_type": "code",
   "execution_count": null,
   "metadata": {},
   "outputs": [],
   "source": []
  },
  {
   "cell_type": "code",
   "execution_count": null,
   "metadata": {},
   "outputs": [],
   "source": []
  },
  {
   "cell_type": "markdown",
   "metadata": {},
   "source": [
    "# Gitignore Review\n",
    "\n",
    "> A gitignore file specifies intentionally untracked files that Git should ignore. Files already tracked by Git are not affected... Each line in a gitignore file specifies a pattern. Source: https://git-scm.com/docs/gitignore\n",
    "\n",
    "![gitignore](https://i.stack.imgur.com/coZgL.png)\n",
    "_Source: [https://stackoverflow.com/questions/29618048/file-shows-up-in-the-list-of-files-to-commit-in-github-for-windows-whereas-it-is](https://stackoverflow.com/questions/29618048/file-shows-up-in-the-list-of-files-to-commit-in-github-for-windows-whereas-it-is)_\n",
    "\n",
    "#### Useful `.gitignore` file links\n",
    "* https://git-scm.com/docs/gitignore\n",
    "* https://help.github.com/en/github/using-git/ignoring-files"
   ]
  }
 ],
 "metadata": {
  "kernelspec": {
   "display_name": "Python 3",
   "language": "python",
   "name": "python3"
  },
  "language_info": {
   "codemirror_mode": {
    "name": "ipython",
    "version": 3
   },
   "file_extension": ".py",
   "mimetype": "text/x-python",
   "name": "python",
   "nbconvert_exporter": "python",
   "pygments_lexer": "ipython3",
   "version": "3.6.10"
  },
  "toc": {
   "base_numbering": 1,
   "nav_menu": {},
   "number_sections": false,
   "sideBar": true,
   "skip_h1_title": false,
   "title_cell": "Table of Contents",
   "title_sidebar": "Contents",
   "toc_cell": true,
   "toc_position": {
    "height": "856.364px",
    "left": "34px",
    "top": "110.284px",
    "width": "177.833px"
   },
   "toc_section_display": true,
   "toc_window_display": true
  }
 },
 "nbformat": 4,
 "nbformat_minor": 2
}
